{
  "nbformat": 4,
  "nbformat_minor": 0,
  "metadata": {
    "colab": {
      "provenance": [],
      "authorship_tag": "ABX9TyNBWwQ7MABdX9uq2omaSP1R",
      "include_colab_link": true
    },
    "kernelspec": {
      "name": "python3",
      "display_name": "Python 3"
    },
    "language_info": {
      "name": "python"
    }
  },
  "cells": [
    {
      "cell_type": "markdown",
      "metadata": {
        "id": "view-in-github",
        "colab_type": "text"
      },
      "source": [
        "<a href=\"https://colab.research.google.com/github/Praviniitm/Project_Moscow/blob/main/Data_Analysis.ipynb\" target=\"_parent\"><img src=\"https://colab.research.google.com/assets/colab-badge.svg\" alt=\"Open In Colab\"/></a>"
      ]
    },
    {
      "cell_type": "code",
      "execution_count": 1,
      "metadata": {
        "id": "llr_18rL6IxD"
      },
      "outputs": [],
      "source": [
        "import pandas as pd"
      ]
    },
    {
      "cell_type": "code",
      "source": [
        "Users_df= pd.read_csv('/content/sample_data/users.csv')"
      ],
      "metadata": {
        "id": "8Y5YE6hE6cal"
      },
      "execution_count": 14,
      "outputs": []
    },
    {
      "cell_type": "code",
      "source": [
        "Repositories_df= pd.read_csv('/content/sample_data/repositories.csv')"
      ],
      "metadata": {
        "id": "mQ4DGLZ76onU"
      },
      "execution_count": 15,
      "outputs": []
    },
    {
      "cell_type": "markdown",
      "source": [
        "1. Who are the top 5 users in Moscow with the highest number of followers? List their login in order, comma-separated.\n",
        "Users"
      ],
      "metadata": {
        "id": "9FMwhl6g2cFO"
      }
    },
    {
      "cell_type": "markdown",
      "source": [
        "2. Who are the 5 earliest registered GitHub users in Moscow? List their login in ascending order of created_at, comma-separated.\n",
        "Users"
      ],
      "metadata": {
        "id": "p8Oowv6W2uFF"
      }
    },
    {
      "cell_type": "code",
      "source": [
        "moscow_users = Users_df\n",
        "\n",
        "# 1. Top 5 users in Moscow by followers\n",
        "top_5_moscow_users = moscow_users.nlargest(5, 'followers')[['login']]\n",
        "top_5_logins = \",\".join(top_5_moscow_users['login'])\n",
        "print(\"Top 5 users in Moscow by followers:\", top_5_logins)\n",
        "\n",
        "# 2. 5 earliest registered users in Moscow by created_at\n",
        "earliest_5_moscow_users = moscow_users.sort_values(by='created_at').head(5)[['login']]\n",
        "earliest_5_logins = \",\".join(earliest_5_moscow_users['login'])\n",
        "print(\"5 earliest registered users in Moscow:\", earliest_5_logins)"
      ],
      "metadata": {
        "colab": {
          "base_uri": "https://localhost:8080/"
        },
        "id": "mihNhHAh69RT",
        "outputId": "c11bd396-a790-46a7-a9d2-2baa73f543aa"
      },
      "execution_count": null,
      "outputs": [
        {
          "output_type": "stream",
          "name": "stdout",
          "text": [
            "Top 5 users in Moscow by followers: AlexGyver,carlcastanas,sergeyshaykhullin,alexey-goloburdin,richardroberti\n",
            "5 earliest registered users in Moscow: maxlapshin,veged,alexeyr,alec-c4,alno\n"
          ]
        }
      ]
    },
    {
      "cell_type": "markdown",
      "source": [
        "3. What are the 3 most popular license among these users? Ignore missing licenses. List the license_name in order, comma-separated."
      ],
      "metadata": {
        "id": "lYqQ-xBK2y4t"
      }
    },
    {
      "cell_type": "code",
      "source": [
        "filtered_df = Repositories_df.dropna(subset=['license_name'])\n",
        "\n",
        "# Count occurrences of each license and select the top 3\n",
        "top_licenses = (\n",
        "    filtered_df['license_name']\n",
        "    .value_counts()\n",
        "    .nlargest(3)\n",
        "    .index.tolist()\n",
        ")\n",
        "\n",
        "# Format the result as a comma-separated string\n",
        "result = \",\".join(top_licenses)\n",
        "print(\"Top 3 most popular licenses:\", result)"
      ],
      "metadata": {
        "colab": {
          "base_uri": "https://localhost:8080/"
        },
        "id": "lf35iEC9_-V4",
        "outputId": "f454edeb-556b-431d-b15c-d419ea42f794"
      },
      "execution_count": null,
      "outputs": [
        {
          "output_type": "stream",
          "name": "stdout",
          "text": [
            "Top 3 most popular licenses: mit,other,apache-2.0\n"
          ]
        }
      ]
    },
    {
      "cell_type": "markdown",
      "source": [
        "4. Which company do the majority of these developers work at?\n",
        "Company (cleaned up as explained above)"
      ],
      "metadata": {
        "id": "NUUAQvjI3Ao1"
      }
    },
    {
      "cell_type": "code",
      "source": [
        "# Drop rows with missing values in the 'company' column\n",
        "filtered_df = Users_df.dropna(subset=['company'])\n",
        "\n",
        "# Count occurrences of each company and find the one with the maximum count\n",
        "top_company = filtered_df['company'].value_counts().idxmax()\n",
        "top_count = filtered_df['company'].value_counts().max()\n",
        "\n",
        "print(f\"The company with the most people working is: {top_company} with {top_count} employees.\")"
      ],
      "metadata": {
        "colab": {
          "base_uri": "https://localhost:8080/"
        },
        "id": "FYKVIR7-Aton",
        "outputId": "1162d3bb-f2e3-44ed-9617-aa67334c6eb3"
      },
      "execution_count": null,
      "outputs": [
        {
          "output_type": "stream",
          "name": "stdout",
          "text": [
            "The company with the most people working is: YANDEX with 22 employees.\n"
          ]
        }
      ]
    },
    {
      "cell_type": "markdown",
      "source": [
        "5. Which programming language is most popular among these users?\n",
        "Language"
      ],
      "metadata": {
        "id": "pR7ZO_KO3J7I"
      }
    },
    {
      "cell_type": "code",
      "source": [
        "# Drop rows with missing values in the 'language' column\n",
        "filtered_df2 = Repositories_df.dropna(subset=['language'])\n",
        "\n",
        "# Count occurrences of each programming language and find the one with the maximum count\n",
        "most_used_language = filtered_df2['language'].value_counts().idxmax()\n",
        "most_used_count = filtered_df2['language'].value_counts().max()\n",
        "\n",
        "print(f\"The most used programming language is: {most_used_language} with {most_used_count} repositories.\")"
      ],
      "metadata": {
        "colab": {
          "base_uri": "https://localhost:8080/"
        },
        "id": "5t1lCPOJBVqn",
        "outputId": "ca3364ef-ce12-4ec5-e3e6-e8df0d7d0996"
      },
      "execution_count": null,
      "outputs": [
        {
          "output_type": "stream",
          "name": "stdout",
          "text": [
            "The most used programming language is: JavaScript with 2968 repositories.\n"
          ]
        }
      ]
    },
    {
      "cell_type": "markdown",
      "source": [
        "6. Which programming language is the second most popular among users who joined after 2020?\n",
        "Language"
      ],
      "metadata": {
        "id": "ifn9kYwU3ce2"
      }
    },
    {
      "cell_type": "code",
      "source": [
        "Users_df['created_at'] = pd.to_datetime(Users_df['created_at'])  # Ensure 'created_at' is in datetime format\n",
        "recent_users = Users_df[Users_df['created_at'] > '2020-01-01']\n",
        "\n",
        "# Step 2: Retrieve the logins of those users\n",
        "recent_logins = recent_users['login'].tolist()\n",
        "\n",
        "# Step 3: Filter repositories_df for those logins\n",
        "filtered_repos3 = Repositories_df[Repositories_df['login'].isin(recent_logins)]\n",
        "\n",
        "# Step 4: Count the occurrences of each language\n",
        "language_counts = filtered_repos3['language'].value_counts()\n",
        "\n",
        "# Step 5: Identify the second most used language\n",
        "if len(language_counts) > 1:\n",
        "    second_most_used_language = language_counts.index[1]  # Get the second most common language\n",
        "else:\n",
        "    second_most_used_language = None  # Handle the case where there are not enough languages\n",
        "\n",
        "print(\"Second most used programming language:\", second_most_used_language)"
      ],
      "metadata": {
        "colab": {
          "base_uri": "https://localhost:8080/"
        },
        "id": "neC0-eDbCjK3",
        "outputId": "63cd0cee-2833-4ad8-b229-279ec3138f37"
      },
      "execution_count": null,
      "outputs": [
        {
          "output_type": "stream",
          "name": "stdout",
          "text": [
            "Second most used programming language: Python\n"
          ]
        }
      ]
    },
    {
      "cell_type": "markdown",
      "source": [
        "7. Which language has the highest average number of stars per repository?\n",
        "Language"
      ],
      "metadata": {
        "id": "mMPUOD2h3i0O"
      }
    },
    {
      "cell_type": "code",
      "source": [
        "average_stars_per_language = Repositories_df.groupby('language')['stargazers_count'].mean()\n",
        "\n",
        "# Step 2: Identify the language with the highest average\n",
        "highest_average_language = average_stars_per_language.idxmax()\n",
        "highest_average_stars = average_stars_per_language.max()\n",
        "\n",
        "print(f\"Language with the highest average stars per repository: {highest_average_language} with an average of {highest_average_stars:.2f} stars.\")"
      ],
      "metadata": {
        "colab": {
          "base_uri": "https://localhost:8080/"
        },
        "id": "8qGBSD0TEVdK",
        "outputId": "a6c9262e-5f43-4859-fd0c-7dfba83b7478"
      },
      "execution_count": null,
      "outputs": [
        {
          "output_type": "stream",
          "name": "stdout",
          "text": [
            "Language with the highest average stars per repository: Pascal with an average of 501.94 stars.\n"
          ]
        }
      ]
    },
    {
      "cell_type": "markdown",
      "source": [
        "8. Let's define leader_strength as followers / (1 + following). Who are the top 5 in terms of leader_strength? List their login in order, comma-separated.\n",
        "User login"
      ],
      "metadata": {
        "id": "W50_ioq43zp9"
      }
    },
    {
      "cell_type": "code",
      "source": [
        "Users_df['LeaderStregth']=Users_df['followers']/(1+Users_df['following'])"
      ],
      "metadata": {
        "id": "RDbo7awrFVUg"
      },
      "execution_count": null,
      "outputs": []
    },
    {
      "cell_type": "code",
      "source": [
        "Leaders=Users_df.sort_values(by='LeaderStregth',ascending=False).head(5)['login']\n",
        "result = \",\".join(Leaders)\n",
        "print(\"Top 5 leaders:\", result)\n"
      ],
      "metadata": {
        "colab": {
          "base_uri": "https://localhost:8080/"
        },
        "id": "HmJ9J3s5GH-4",
        "outputId": "ce885ca9-39fc-4574-e7a4-6a103431a239"
      },
      "execution_count": null,
      "outputs": [
        {
          "output_type": "stream",
          "name": "stdout",
          "text": [
            "Top 5 leaders: AlexGyver,alexey-goloburdin,yandex,yandexdataschool,esokolov\n"
          ]
        }
      ]
    },
    {
      "cell_type": "markdown",
      "source": [
        "9. What is the correlation between the number of followers and the number of public repositories among users in Moscow?\n",
        "Correlation between followers and repos (to 3 decimal places, e.g. 0.123 or -0.123)"
      ],
      "metadata": {
        "id": "kIfRGicR36gt"
      }
    },
    {
      "cell_type": "code",
      "source": [
        "correlation = Users_df['followers'].corr(Users_df['public_repos'])\n",
        "print(\"Correlation between followers and public repositories:\", correlation)\n"
      ],
      "metadata": {
        "colab": {
          "base_uri": "https://localhost:8080/"
        },
        "id": "k_WchT6KGcpA",
        "outputId": "2d3e68dc-829c-4ba9-e16b-99023a930684"
      },
      "execution_count": null,
      "outputs": [
        {
          "output_type": "stream",
          "name": "stdout",
          "text": [
            "Correlation between followers and public repositories: 0.05121092889817158\n"
          ]
        }
      ]
    },
    {
      "cell_type": "markdown",
      "source": [
        "10. Does creating more repos help users get more followers? Using regression, estimate how many additional followers a user gets per additional public repository.\n",
        "Regression slope of followers on repos (to 3 decimal places, e.g. 0.123 or -0.123)"
      ],
      "metadata": {
        "id": "NLFRz4qZ4wzH"
      }
    },
    {
      "cell_type": "markdown",
      "source": [
        "![image.png](data:image/png;base64,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)"
      ],
      "metadata": {
        "id": "nDuQuT7P4mSX"
      }
    },
    {
      "cell_type": "markdown",
      "source": [
        "11. Do people typically enable projects and wikis together? What is the correlation between a repo having projects enabled and having wiki enabled?\n",
        "Correlation between projects and wiki enabled (to 3 decimal places, e.g. 0.123 or -0.123)"
      ],
      "metadata": {
        "id": "QdLGPxus5F1H"
      }
    },
    {
      "cell_type": "code",
      "source": [
        "if 'has_projects' in Repositories_df.columns and 'has_wiki' in Repositories_df.columns:\n",
        "    # Step 2: Calculate the correlation\n",
        "    correlation = Repositories_df['has_projects'].corr(Repositories_df['has_wiki'])\n",
        "    print(f\"Correlation between enabling projects and wikis: {correlation:.2f}\")\n",
        "else:\n",
        "    print(\"Required columns not found in the DataFrame.\")"
      ],
      "metadata": {
        "colab": {
          "base_uri": "https://localhost:8080/"
        },
        "id": "q9uatyyxK6AS",
        "outputId": "1dfea8d2-ead0-4415-b90c-fcf23972beb0"
      },
      "execution_count": null,
      "outputs": [
        {
          "output_type": "stream",
          "name": "stdout",
          "text": [
            "Correlation between enabling projects and wikis: 0.35\n"
          ]
        }
      ]
    },
    {
      "cell_type": "markdown",
      "source": [
        "12. Do hireable users follow more people than those who are not hireable?\n",
        "Average of following per user for hireable=true minus the average following for the rest (to 3 decimal places, e.g. 12.345 or -12.345)"
      ],
      "metadata": {
        "id": "LRxsMFgw5XTW"
      }
    },
    {
      "cell_type": "code",
      "source": [
        "hireable_avg_following = Users_df[Users_df['hireable'] == True]['following'].mean()\n",
        "non_hireable_avg_following = Users_df[Users_df['hireable'] != True]['following'].mean()\n",
        "difference = hireable_avg_following - non_hireable_avg_following\n",
        "difference"
      ],
      "metadata": {
        "colab": {
          "base_uri": "https://localhost:8080/"
        },
        "id": "Nt6ZtjsTO3sA",
        "outputId": "c90e2259-3714-46d1-d63f-3b30829c8b76"
      },
      "execution_count": 19,
      "outputs": [
        {
          "output_type": "execute_result",
          "data": {
            "text/plain": [
              "-29.39637198622274"
            ]
          },
          "metadata": {},
          "execution_count": 19
        }
      ]
    },
    {
      "cell_type": "markdown",
      "source": [
        "13. Some developers write long bios. Does that help them get more followers? What's the impact of the length of their bio (in Unicode words, split by whitespace) with followers? (Ignore people without bios)\n",
        "Regression slope of followers on bio word count (to 3 decimal places, e.g. 12.345 or -12.345)"
      ],
      "metadata": {
        "id": "1KIlyidC5j43"
      }
    },
    {
      "cell_type": "code",
      "source": [
        "import statsmodels.api as sm\n",
        "\n",
        "df = Users_df[Users_df['bio'].notnull()]\n",
        "\n",
        "# Calculate the length of each bio in words\n",
        "df['bio_word_count'] = df['bio'].str.split().str.len()\n",
        "\n",
        "# Prepare the independent variable (X) and dependent variable (y)\n",
        "X = df['bio_word_count']\n",
        "y = df['followers'] # Adjust the column name as per your dataset\n",
        "\n",
        "# Add a constant to the independent variable (for the intercept)\n",
        "X = sm.add_constant(X)\n",
        "\n",
        "# Fit the regression model\n",
        "model = sm.OLS(y, X).fit()\n",
        "\n",
        "# Get the slope (coefficient of the bio_word_count)\n",
        "slope = model.params['bio_word_count']\n",
        "\n",
        "# Print the regression slope rounded to three decimal places\n",
        "print(f\"\\nRegression slope of followers on bio word count: {slope:.3f}\")"
      ],
      "metadata": {
        "colab": {
          "base_uri": "https://localhost:8080/"
        },
        "id": "L_bTiclNZ57s",
        "outputId": "b644f521-c2b9-49c8-f37a-02ac27b0a499"
      },
      "execution_count": null,
      "outputs": [
        {
          "output_type": "stream",
          "name": "stdout",
          "text": [
            "\n",
            "Regression slope of followers on bio word count: 0.519\n"
          ]
        },
        {
          "output_type": "stream",
          "name": "stderr",
          "text": [
            "<ipython-input-40-b48dfc60676e>:6: SettingWithCopyWarning: \n",
            "A value is trying to be set on a copy of a slice from a DataFrame.\n",
            "Try using .loc[row_indexer,col_indexer] = value instead\n",
            "\n",
            "See the caveats in the documentation: https://pandas.pydata.org/pandas-docs/stable/user_guide/indexing.html#returning-a-view-versus-a-copy\n",
            "  df['bio_word_count'] = df['bio'].str.split().str.len()\n"
          ]
        }
      ]
    },
    {
      "cell_type": "markdown",
      "source": [
        "14. Who created the most repositories on weekends (UTC)? List the top 5 users' login in order, comma-separated\n",
        "Users login"
      ],
      "metadata": {
        "id": "M-GFk31i6Ahl"
      }
    },
    {
      "cell_type": "code",
      "source": [
        "# Step 1: Convert the created_at column to datetime format\n",
        "Repositories_df['created_at'] = pd.to_datetime(Repositories_df['created_at'])\n",
        "\n",
        "# Step 2: Filter for weekend days (Saturday=5, Sunday=6)\n",
        "weekend_repos_df = Repositories_df[Repositories_df['created_at'].dt.dayofweek >= 5]\n",
        "\n",
        "# Step 3: Group by login and count the number of repositories created\n",
        "top_weekend_creators = weekend_repos_df.groupby('login').size().reset_index(name='repo_count')\n",
        "\n",
        "# Step 4: Sort the results and get the top 5 users\n",
        "top_5_users = top_weekend_creators.sort_values(by='repo_count', ascending=False).head(5)\n",
        "\n",
        "# Get the logins as a comma-separated string\n",
        "top_5_logins = ','.join(top_5_users['login'])\n",
        "\n",
        "print(f\"Top 5 users who created the most repositories on weekends: {top_5_logins}\")"
      ],
      "metadata": {
        "colab": {
          "base_uri": "https://localhost:8080/"
        },
        "id": "cKlDGJ_6SQxc",
        "outputId": "416c17e0-8ea6-4b21-8e61-16d45912330b"
      },
      "execution_count": null,
      "outputs": [
        {
          "output_type": "stream",
          "name": "stdout",
          "text": [
            "Top 5 users who created the most repositories on weekends: VN0,kuggaa,reverse-ex,Mirocow,vslinko\n"
          ]
        }
      ]
    },
    {
      "cell_type": "markdown",
      "source": [
        "15. Do people who are hireable share their email addresses more often?\n",
        "[fraction of users with email when hireable=true] minus [fraction of users with email for the rest] (to 3 decimal places, e.g. 0.123 or -0.123)"
      ],
      "metadata": {
        "id": "UEVzB7Dm6l_m"
      }
    },
    {
      "cell_type": "code",
      "source": [
        "fraction_hierable = Users_df[Users_df['hireable'] == True]['email'].notna().mean()\n",
        "fraction_non_hierable = Users_df[Users_df['hireable'] != True]['email'].notna().mean()\n",
        "diff = fraction_hierable - fraction_non_hierable\n",
        "diff"
      ],
      "metadata": {
        "id": "_NUJpvDjWByU",
        "colab": {
          "base_uri": "https://localhost:8080/"
        },
        "outputId": "fc7bee36-94fd-4564-c5c8-98d4f4121451"
      },
      "execution_count": 17,
      "outputs": [
        {
          "output_type": "execute_result",
          "data": {
            "text/plain": [
              "0.1885648679678531"
            ]
          },
          "metadata": {},
          "execution_count": 17
        }
      ]
    },
    {
      "cell_type": "code",
      "source": [
        "difference"
      ],
      "metadata": {
        "colab": {
          "base_uri": "https://localhost:8080/"
        },
        "id": "z6GE1H1ddNmJ",
        "outputId": "d8adeb70-b707-4946-c3f3-08e77fd74288"
      },
      "execution_count": 8,
      "outputs": [
        {
          "output_type": "execute_result",
          "data": {
            "text/plain": [
              "nan"
            ]
          },
          "metadata": {},
          "execution_count": 8
        }
      ]
    },
    {
      "cell_type": "code",
      "source": [
        "# prompt:  Some developers write long bios. Does that help them get more followers? What's the impact of the length of their bio (in Unicode words, split by whitespace) with followers? (Ignore people without bios)Correlation between bio length and followers: 0.009934530984342313\n",
        "# <ipython-input-37-bfe83c138310>:7: SettingWithCopyWarning:\n",
        "# A value is trying to be set on a copy of a slice from a DataFrame.\n",
        "# Try using .loc[row_indexer,col_indexer] = value instead\n",
        "# See the caveats in the documentation: https://pandas.pydata.org/pandas-docs/stable/user_guide/indexing.html#returning-a-view-versus-a-copy\n",
        "#   Users_df_with_bio['bio_length'] = Users_df_with_bio['bio'].apply(lambda x: len(str(x).split()))\n",
        "\n",
        "Users_df_with_bio = Users_df.dropna(subset=['bio'])\n",
        "Users_df_with_bio['bio_length'] = Users_df_with_bio['bio'].apply(lambda x: len(str(x).split()))\n",
        "\n",
        "correlation = Users_df_with_bio['followers'].corr(Users_df_with_bio['bio_length'])\n",
        "print(f\"Correlation between bio length and followers: {correlation}\")\n"
      ],
      "metadata": {
        "colab": {
          "base_uri": "https://localhost:8080/"
        },
        "id": "XCEhxJlGXAHs",
        "outputId": "8f16c1b9-a52e-4266-e41e-f8ec151285b8"
      },
      "execution_count": null,
      "outputs": [
        {
          "output_type": "stream",
          "name": "stdout",
          "text": [
            "Correlation between bio length and followers: 0.009934530984342313\n"
          ]
        },
        {
          "output_type": "stream",
          "name": "stderr",
          "text": [
            "<ipython-input-39-b8234c567e91>:9: SettingWithCopyWarning: \n",
            "A value is trying to be set on a copy of a slice from a DataFrame.\n",
            "Try using .loc[row_indexer,col_indexer] = value instead\n",
            "\n",
            "See the caveats in the documentation: https://pandas.pydata.org/pandas-docs/stable/user_guide/indexing.html#returning-a-view-versus-a-copy\n",
            "  Users_df_with_bio['bio_length'] = Users_df_with_bio['bio'].apply(lambda x: len(str(x).split()))\n"
          ]
        }
      ]
    },
    {
      "cell_type": "markdown",
      "source": [
        "16. Let's assume that the last word in a user's name is their surname (ignore missing names, trim and split by whitespace.) What's the most common surname? (If there's a tie, list them all, comma-separated, alphabetically)\n",
        "Most common surname(s)"
      ],
      "metadata": {
        "id": "-rxE-62w6Y4-"
      }
    },
    {
      "cell_type": "code",
      "source": [
        "# prompt: Let's assume that the last word in a user's name is their surname (ignore missing names, trim and split by whitespace.) What's the most common surname? (If there's a tie, list them all, comma-separated, alphabetically)\n",
        "\n",
        "Users_df['name'] = Users_df['name'].str.strip()\n",
        "Users_df['surname'] = Users_df['name'].str.split().str[-1]\n",
        "surname_counts = Users_df['surname'].value_counts()\n",
        "max_count = surname_counts.max()\n",
        "most_common_surnames = surname_counts[surname_counts == max_count].index.tolist()\n",
        "most_common_surnames.sort()\n",
        "print(','.join(most_common_surnames))"
      ],
      "metadata": {
        "colab": {
          "base_uri": "https://localhost:8080/"
        },
        "id": "x3Oyprs_WxXj",
        "outputId": "a8e801e1-5cfa-45a1-d97a-25004d926828"
      },
      "execution_count": null,
      "outputs": [
        {
          "output_type": "stream",
          "name": "stdout",
          "text": [
            "Romanov\n"
          ]
        }
      ]
    }
  ]
}