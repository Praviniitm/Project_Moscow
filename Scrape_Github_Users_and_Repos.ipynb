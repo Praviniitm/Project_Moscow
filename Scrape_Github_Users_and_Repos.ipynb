{
  "nbformat": 4,
  "nbformat_minor": 0,
  "metadata": {
    "colab": {
      "provenance": [],
      "authorship_tag": "ABX9TyNtEuhGfkM7MtZlXtgpsW8s",
      "include_colab_link": true
    },
    "kernelspec": {
      "name": "python3",
      "display_name": "Python 3"
    },
    "language_info": {
      "name": "python"
    }
  },
  "cells": [
    {
      "cell_type": "markdown",
      "metadata": {
        "id": "view-in-github",
        "colab_type": "text"
      },
      "source": [
        "<a href=\"https://colab.research.google.com/github/Praviniitm/Project_Moscow/blob/main/Scrape_Github_Users_and_Repos.ipynb\" target=\"_parent\"><img src=\"https://colab.research.google.com/assets/colab-badge.svg\" alt=\"Open In Colab\"/></a>"
      ]
    },
    {
      "cell_type": "code",
      "execution_count": null,
      "metadata": {
        "id": "Ct_7RwckW_RH"
      },
      "outputs": [],
      "source": [
        "import requests"
      ]
    },
    {
      "cell_type": "code",
      "source": [
        "import time\n",
        "import csv"
      ],
      "metadata": {
        "id": "10ihUn5g7_bD"
      },
      "execution_count": null,
      "outputs": []
    },
    {
      "cell_type": "code",
      "source": [
        "GITHUB_TOKEN = \"Mytoken\"\n",
        "headers = {\"Authorization\": f\"token {GITHUB_TOKEN}\"}\n",
        "def check_rate_limit():\n",
        "    url = \"https://api.github.com/rate_limit\"\n",
        "    response = requests.get(url, headers=headers)\n",
        "    rate_limit = response.json()\n",
        "    remaining = rate_limit[\"rate\"][\"remaining\"]\n",
        "    reset_time = rate_limit[\"rate\"][\"reset\"]\n",
        "\n",
        "    # If limit is almost reached, wait until it resets\n",
        "    if remaining < 10:\n",
        "        wait_time = reset_time - int(time.time())\n",
        "        print(f\"Rate limit almost reached. Waiting for {wait_time} seconds.\")\n",
        "        time.sleep(wait_time + 1)"
      ],
      "metadata": {
        "id": "Xr5HMGq4cDR_"
      },
      "execution_count": null,
      "outputs": []
    },
    {
      "cell_type": "code",
      "source": [
        "def clean_company_name(company):\n",
        "    if company:\n",
        "        return company.strip().lstrip(\"@\").upper()\n",
        "    return None"
      ],
      "metadata": {
        "id": "j5pXPKYD9YmD"
      },
      "execution_count": null,
      "outputs": []
    },
    {
      "cell_type": "code",
      "source": [
        "def get_users_in_moscow():\n",
        "    url = \"https://api.github.com/search/users\"\n",
        "    users = []\n",
        "    page = 1\n",
        "\n",
        "    while True:\n",
        "        check_rate_limit()\n",
        "        params = {\n",
        "            \"q\": \"location:Moscow\",\n",
        "            \"per_page\": 30,\n",
        "            \"page\": page\n",
        "        }\n",
        "        response = requests.get(url, headers=headers, params=params)\n",
        "        data = response.json()\n",
        "\n",
        "        if \"items\" not in data:\n",
        "            break\n",
        "\n",
        "        for user in data[\"items\"]:\n",
        "            check_rate_limit()\n",
        "            user_data = requests.get(user[\"url\"], headers=headers).json()\n",
        "            if user_data.get(\"followers\", 0) > 50:\n",
        "                user_info = {\n",
        "                    \"login\": user_data.get(\"login\"),\n",
        "                    \"name\": user_data.get(\"name\"),\n",
        "                    \"company\": clean_company_name(user_data.get(\"company\")),\n",
        "                    \"location\": user_data.get(\"location\"),\n",
        "                    \"email\": user_data.get(\"email\"),\n",
        "                    \"hireable\": user_data.get(\"hireable\"),\n",
        "                    \"bio\": user_data.get(\"bio\"),\n",
        "                    \"public_repos\": user_data.get(\"public_repos\"),\n",
        "                    \"followers\": user_data.get(\"followers\"),\n",
        "                    \"following\": user_data.get(\"following\"),\n",
        "                    \"created_at\": user_data.get(\"created_at\")\n",
        "                }\n",
        "                users.append(user_info)\n",
        "\n",
        "        if len(data[\"items\"]) < 30:\n",
        "            break\n",
        "        page += 1\n",
        "\n",
        "    return users"
      ],
      "metadata": {
        "id": "IVdrq62h8wCS"
      },
      "execution_count": null,
      "outputs": []
    },
    {
      "cell_type": "code",
      "source": [
        "def get_repositories(user_login):\n",
        "    repos_url = f\"https://api.github.com/users/{user_login}/repos\"\n",
        "    repositories = []\n",
        "    page = 1\n",
        "\n",
        "    while len(repositories) < 500:\n",
        "        check_rate_limit()\n",
        "        params = {\n",
        "            \"sort\": \"pushed\",\n",
        "            \"direction\": \"desc\",\n",
        "            \"per_page\": 100,\n",
        "            \"page\": page\n",
        "        }\n",
        "        response = requests.get(repos_url, headers=headers, params=params)\n",
        "        repos_data = response.json()\n",
        "\n",
        "        for repo in repos_data:\n",
        "            repositories.append({\n",
        "                \"login\": user_login,\n",
        "                \"full_name\": repo.get(\"full_name\"),\n",
        "                \"created_at\": repo.get(\"created_at\"),\n",
        "                \"pushed_at\": repo.get(\"pushed_at\"),\n",
        "                \"stargazers_count\": repo.get(\"stargazers_count\"),\n",
        "                \"watchers_count\": repo.get(\"watchers_count\"),\n",
        "                \"language\": repo.get(\"language\"),\n",
        "                \"has_projects\": repo.get(\"has_projects\"),\n",
        "                \"has_wiki\": repo.get(\"has_wiki\"),\n",
        "                \"license_name\": repo.get(\"license\", {}).get(\"key\") if repo.get(\"license\") else None\n",
        "            })\n",
        "\n",
        "            if len(repositories) >= 500:\n",
        "                break\n",
        "\n",
        "        if len(repos_data) < 100:  # No more repositories\n",
        "            break\n",
        "        page += 1\n",
        "\n",
        "    return repositories\n",
        "\n",
        "# Fetch users in Moscow with over 50 followers\n",
        "users = get_users_in_moscow()\n",
        "\n",
        "# Save user data to users.csv\n",
        "with open(\"users.csv\", \"w\", newline=\"\", encoding=\"utf-8\") as csvfile:\n",
        "    fieldnames = [\"login\", \"name\", \"company\", \"location\", \"email\", \"hireable\", \"bio\",\n",
        "                  \"public_repos\", \"followers\", \"following\", \"created_at\"]\n",
        "    writer = csv.DictWriter(csvfile, fieldnames=fieldnames)\n",
        "    writer.writeheader()\n",
        "    for user in users:\n",
        "        writer.writerow(user)\n",
        "\n",
        "# Fetch repositories for each user and save to repositories.csv\n",
        "with open(\"repositories.csv\", \"w\", newline=\"\", encoding=\"utf-8\") as csvfile:\n",
        "    fieldnames = [\"login\", \"full_name\", \"created_at\", \"pushed_at\", \"stargazers_count\",\n",
        "                  \"watchers_count\", \"language\", \"has_projects\", \"has_wiki\", \"license_name\"]\n",
        "    writer = csv.DictWriter(csvfile, fieldnames=fieldnames)\n",
        "    writer.writeheader()\n",
        "\n",
        "    for user in users:\n",
        "        repos = get_repositories(user[\"login\"])\n",
        "        for repo in repos:\n",
        "            writer.writerow(repo)"
      ],
      "metadata": {
        "id": "z3uHT_p4YDaF"
      },
      "execution_count": null,
      "outputs": []
    },
    {
      "cell_type": "markdown",
      "source": [
        "                                                                                                                                                                                                                                                                                                                                                                                                                                                                                                                                                                                                                                                                                                                                                                                                                                                                                                                                                                                                                                                                                                                                                                                                                                                                                                                                                                                                                                                                                                                                                                                                                                                                                                                                                                                                                                                                                                                                                                                                                                                                                                                                                                                                                                                                                                                                                                                                                                                                                                                                                                                                                                                                                                                                                                                                                                                                                                                                                                                                                                                                                                                                                                                                                                                                                                                                                                                                                                                                                                                                                                                                                                                                                                                                                                                                                                                                                                                                                                                                                                                                                                                                                                                                                                                                                                                                                                                                                                                                                                                                                                                                                                                                                                                                                                                                                                                                                                                                                                                                                                                                                                                                                                                                                                                                                                                                                                                                                                                                                                                                                                                                                                                                                                                                                                                                                                                                                                                                                                                                                                                                                                                                                                                                                                                                                                                                                                                                                                                                                                                                                                                                                                                                                                                                                                                                                                                                                                                                                                                                                                                                                                                                                                                                                                                                                                                                                                                                                                                                                                                                                                                                                                                                                                                                                                                                                                                                                                                                                                                                                                                                                                                                                                                                                                                                                                                                                                                                                                                                                                                                                                                                                                                                                                                                                                                                                                                                                                                                                                                                                                                                                                                                                                                                                                                                                                                                                                                                                                                                                                                                                                                                                                                                                                                                                                                                                                                                                                                                                                                                                                                                                                                                                                                                                                                                                                                                                                                                                                                                                                                                                                                                                                                                                                                                                                                                                                                                                                                                                                                                                                                                                                                                                                                                                                                                                                                                                                                                                                                                                                                                                                                                                                                                                                                                                                                                                                                                                                                                                                                                                                                                                                                                                                                                                                                                                                                                                                                                                                                                                                                                                                                                                                                                                                                                                                                                                                                                                                                                                                                                                                                                                                                                                                                                                                                                                                                                                                                                                                                                                                                                                                                                                                                                                                                                                                                                                                                                                                                                                                                                                                                                                                                                                                                                                                                                                                                                                                                                                                                                                                                                                                                                                                                                                                                                                                                                                                                                                                                                                                                                                                                                                                                                                                                                                                                                                                                                                                                                                                                                                                                                                                                                                                                                                                                                                                                                                                                                                                                                                                                                                                                                                                                                                                                                                                                                                                                                                                                                                                                                                                                                                                                                                                                                                                                                                                                                                                                                                                                                                                                                                                                                                                                                                                                                                                                                                                                                                                                                                                                                                                                                                                                                                                                                                                                                                                                                                                                                                                                                                                                                                                                                                                                                                                                                                                                                                                                                                                                                                                                                                                                                                                                                                                                                                                                                                                                                                                                                                                                                                                                                                                                                                                                                                                                                                                                                                                                                                                                                                                                                                                                                                                                                                                                                                                                                                                                                                                                                                                                                                                                                                                                                                                                                                                                                                                                                                                                                                                                                                                                                                                                                                                                                                                                                                                                                                                                                                                                                                                                                                                                                                                                                                                                                                                                                                                                                                                                                                                                                                                                                                                                                                                                                                                                                                                                                                                                                                                                                                                                                                                                                                                                                                                                                                                                                                                                                                                                                                                                                                                                                                                                                                                                                                                                                                                                                                                                                                                                                                                                                                                                                                                                                                                                                                                                                                                                                                                                                                                                                                                                                                                                                                                                                                                                                                                                                                                                                                                                                                                                                                                                                                                                                                                                                                                                                                                                                                                                                                                                                                                                                                                                                                                                                                                                                                                                                                                                                                                                                                                                                                                                                                                                                                                                                                                                                                                                                                                                                                                                                                                                                                                                                                                                                                                                                                                                                                                                                                                                                                                                                                                                                                                                                                                                                                                                                                                                                                                                                                                                                                                                                                                                                                                                                                                                                                                                                                                                                                                                                                                                                                                                                                                                                                                                                                                                                                                                                                                                                                                                                                                                                                                                                                                                                                                                                                                                                                                                                                                                                                                                                                                                                                                                                                                                                                                                                                                                                                                                                                                                                                                                                                                                                                     "
      ],
      "metadata": {
        "id": "DhmHBUiYcmNZ"
      }
    }
  ]
}